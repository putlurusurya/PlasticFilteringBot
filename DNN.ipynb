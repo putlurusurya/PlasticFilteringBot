{
 "cells": [
  {
   "cell_type": "code",
   "execution_count": 2,
   "metadata": {},
   "outputs": [],
   "source": [
    "import numpy as np\n",
    "import matplotlib.pyplot as plt\n",
    "import cv2\n",
    "from os import listdir\n",
    "from os.path import isfile, join\n",
    "import os\n",
    "import math"
   ]
  },
  {
   "cell_type": "code",
   "execution_count": 3,
   "metadata": {},
   "outputs": [],
   "source": [
    "def sigmoid(Z):\n",
    "\n",
    "    A = 1/(1+np.exp(-Z))\n",
    "    cache = Z\n",
    "    return A,cache"
   ]
  },
  {
   "cell_type": "code",
   "execution_count": 4,
   "metadata": {},
   "outputs": [],
   "source": [
    "def relu(Z):\n",
    "    A = np.maximum(0,Z)\n",
    "    cache = Z \n",
    "    return A,cache"
   ]
  },
  {
   "cell_type": "code",
   "execution_count": 5,
   "metadata": {},
   "outputs": [],
   "source": [
    "def sigmoid_backward(dA, cache):\n",
    "   \n",
    "    Z = cache\n",
    "    \n",
    "    s = 1/(1+np.exp(-Z))\n",
    "    dZ = dA * s * (1-s)\n",
    "    \n",
    "    return dZ"
   ]
  },
  {
   "cell_type": "code",
   "execution_count": 6,
   "metadata": {},
   "outputs": [],
   "source": [
    "def relu_backward(dA, cache):\n",
    "    \n",
    "    Z = cache\n",
    "    \n",
    "    dZ = np.array(dA, copy=True)  \n",
    "    dZ[Z <= 0] = 0\n",
    "     \n",
    "    return dZ"
   ]
  },
  {
   "cell_type": "code",
   "execution_count": 7,
   "metadata": {},
   "outputs": [],
   "source": [
    "def initialize_parameters(layer_dims):\n",
    "    parameters = {}\n",
    "    L = len(layer_dims)           \n",
    "\n",
    "    for l in range(1, L):\n",
    "        parameters['W' + str(l)] = np.random.randn(layer_dims[l], layer_dims[l-1])*  np.sqrt(2 / layer_dims[l-1])\n",
    "        parameters['b' + str(l)] = np.zeros((layer_dims[l], 1))\n",
    "        \n",
    "    return parameters"
   ]
  },
  {
   "cell_type": "code",
   "execution_count": 8,
   "metadata": {},
   "outputs": [],
   "source": [
    "def linear_activation_forward(A_prev, W, b, activation):\n",
    "    \n",
    "    if activation == \"sigmoid\":\n",
    "        \n",
    "        Z = np.dot(W,A_prev)+b\n",
    "        linear_cache = (A_prev, W, b)\n",
    "        A, activation_cache = sigmoid(Z)\n",
    "        print(W.shape,A_prev.shape)\n",
    "       \n",
    "    elif activation == \"relu\":\n",
    "       \n",
    "        Z = np.dot(W,A_prev)+b\n",
    "        linear_cache = (A_prev, W, b)\n",
    "        A, activation_cache = relu(Z)\n",
    "        \n",
    "    cache = (linear_cache, activation_cache)\n",
    "    del linear_cache\n",
    "    del activation_cache\n",
    "    del Z\n",
    "    #print(cache[1])\n",
    "    return A, cache\n"
   ]
  },
  {
   "cell_type": "code",
   "execution_count": 9,
   "metadata": {},
   "outputs": [],
   "source": [
    "def forward_propagation(X, parameters):\n",
    "    caches=[]\n",
    "    A_prev=X\n",
    "    L = len(parameters) // 2\n",
    "    for l in range(1,L):\n",
    "        A_prev,cache=linear_activation_forward(A_prev,parameters['W'+str(l)],parameters['b'+str(l)],'relu')\n",
    "        caches.append(cache)\n",
    "    AL,cache=linear_activation_forward(A_prev,parameters['W'+str(L)],parameters['b'+str(L)],'sigmoid')\n",
    "    caches.append(cache)\n",
    "    del cache\n",
    "    del A_prev\n",
    "    del L\n",
    "    return AL, caches"
   ]
  },
  {
   "cell_type": "code",
   "execution_count": 10,
   "metadata": {},
   "outputs": [],
   "source": [
    "def compute_cost(AL, Y):\n",
    "    \n",
    "    m = Y.shape[1]\n",
    "    cost = -(1/m)*np.sum(Y*np.log(AL)+(1-Y)*np.log(1-AL))\n",
    "    cost = np.squeeze(cost)      \n",
    "    \n",
    "    return cost"
   ]
  },
  {
   "cell_type": "code",
   "execution_count": 11,
   "metadata": {},
   "outputs": [],
   "source": [
    "def linear_backward(dZ, cache):\n",
    "    \n",
    "    A_prev, W, b = cache\n",
    "    m = A_prev.shape[1]\n",
    "\n",
    "    dW = np.dot(dZ,A_prev.T)/m\n",
    "    db = np.sum(dZ,axis=1,keepdims=True)/m\n",
    "    dA_prev = np.dot(W.T,dZ)\n",
    "    del A_prev\n",
    "    del W\n",
    "    del b\n",
    "    return dA_prev, dW, db"
   ]
  },
  {
   "cell_type": "code",
   "execution_count": 12,
   "metadata": {},
   "outputs": [],
   "source": [
    "def linear_activation_backward(dA, cache, activation):\n",
    "    linear_cache, activation_cache = cache\n",
    "    \n",
    "    if activation == \"relu\":\n",
    "        dZ = relu_backward(dA,activation_cache)\n",
    "        dA_prev, dW, db =linear_backward(dZ,linear_cache) \n",
    "        \n",
    "    elif activation == \"sigmoid\":\n",
    "        dZ = sigmoid_backward(dA,activation_cache)\n",
    "        dA_prev, dW, db = linear_backward(dZ,linear_cache)\n",
    "    del dZ\n",
    "    del linear_cache\n",
    "    del activation_cache\n",
    "    return dA_prev, dW, db"
   ]
  },
  {
   "cell_type": "code",
   "execution_count": 13,
   "metadata": {},
   "outputs": [],
   "source": [
    "def backward_propagation(AL, Y, caches):\n",
    "    grads = {}\n",
    "    L = len(caches) \n",
    "    m = AL.shape[1]\n",
    "    Y = Y.reshape(AL.shape)\n",
    "    dAL = -(np.divide(Y, AL) - np.divide(1 - Y, 1 - AL))\n",
    "    current_cache = caches[L-1]\n",
    "    grads[\"dA\" + str(L-1)], grads[\"dW\" + str(L)], grads[\"db\" + str(L)] =linear_activation_backward(dAL, current_cache, 'sigmoid')\n",
    "    for l in reversed(range(L-1)):\n",
    "        current_cache = caches[l]\n",
    "        dA_prev_temp, dW_temp, db_temp = linear_activation_backward(grads[\"dA\" + str(l + 1)], current_cache, 'relu')\n",
    "        grads[\"dA\" + str(l)] = dA_prev_temp\n",
    "        grads[\"dW\" + str(l + 1)] = dW_temp\n",
    "        grads[\"db\" + str(l + 1)] = db_temp\n",
    "    del dA_prev_temp, dW_temp, db_temp\n",
    "    del dAL\n",
    "    del L,m,Y\n",
    "    del current_cache\n",
    "    return grads"
   ]
  },
  {
   "cell_type": "code",
   "execution_count": 14,
   "metadata": {},
   "outputs": [],
   "source": [
    "def update_parameters(parameters, grads, learning_rate):\n",
    "    \n",
    "    L = len(parameters) \n",
    "    for l in range(L):\n",
    "        parameters[\"W\" + str(l+1)] = parameters[\"W\" + str(l+1)]-learning_rate*grads['dW'+str(l+1)]\n",
    "        parameters[\"b\" + str(l+1)] = parameters[\"b\" + str(l+1)]-learning_rate*grads['db'+str(l+1)]\n",
    "    del L\n",
    "    return parameters"
   ]
  },
  {
   "cell_type": "code",
   "execution_count": 15,
   "metadata": {},
   "outputs": [],
   "source": [
    "def update_parameters_with_gd(parameters, grads, learning_rate):\n",
    "\n",
    "    L = len(parameters) // 2 \n",
    "\n",
    "    for l in range(L):\n",
    "\n",
    "        parameters[\"W\" + str(l+1)] = parameters['W'+str(l+1)]-learning_rate*grads['dW'+str(l+1)]\n",
    "        parameters[\"b\" + str(l+1)] = parameters['b'+str(l+1)]-learning_rate*grads['db'+str(l+1)]\n",
    "    del L  \n",
    "    return parameters"
   ]
  },
  {
   "cell_type": "code",
   "execution_count": 16,
   "metadata": {},
   "outputs": [],
   "source": [
    "def random_mini_batches(X, Y, mini_batch_size = 64):\n",
    "             \n",
    "    m = X.shape[1]                 \n",
    "    mini_batches = []\n",
    "\n",
    "    permutation = list(np.random.permutation(m))\n",
    "    shuffled_X = X[:, permutation]\n",
    "    shuffled_Y = Y[:, permutation].reshape((1,m))\n",
    "\n",
    "    num_complete_minibatches = math.floor(m/mini_batch_size) \n",
    "    for k in range(0, num_complete_minibatches):\n",
    "        \n",
    "        mini_batch_X = shuffled_X[:,k*mini_batch_size:(k+1)*mini_batch_size]\n",
    "        mini_batch_Y = shuffled_Y[:,k*mini_batch_size:(k+1)*mini_batch_size]\n",
    "        \n",
    "        mini_batch = (mini_batch_X, mini_batch_Y)\n",
    "        mini_batches.append(mini_batch)\n",
    "    \n",
    "    if m % mini_batch_size != 0:\n",
    "        \n",
    "        mini_batch_X = shuffled_X[:,math.floor(m/mini_batch_size)*mini_batch_size:]\n",
    "        mini_batch_Y = shuffled_Y[:,math.floor(m/mini_batch_size)*mini_batch_size:]\n",
    "        \n",
    "        mini_batch = (mini_batch_X, mini_batch_Y)\n",
    "        mini_batches.append(mini_batch)\n",
    "    del permutation,m\n",
    "    del mini_batch_X,mini_batch_Y\n",
    "    return mini_batches"
   ]
  },
  {
   "cell_type": "code",
   "execution_count": 17,
   "metadata": {},
   "outputs": [],
   "source": [
    "def initialize_velocity(parameters):\n",
    "    \n",
    "    L = len(parameters) // 2 \n",
    "    v = {}\n",
    "    \n",
    "    for l in range(L):\n",
    "        \n",
    "        v[\"dW\" + str(l+1)] = np.zeros(parameters['W'+str(l+1)].shape)\n",
    "        v[\"db\" + str(l+1)] = np.zeros(parameters['b'+str(l+1)].shape)\n",
    "    del L\n",
    "    return v"
   ]
  },
  {
   "cell_type": "code",
   "execution_count": 18,
   "metadata": {},
   "outputs": [],
   "source": [
    "def update_parameters_with_momentum(parameters, grads, v, beta, learning_rate):\n",
    "    \n",
    "    L = len(parameters) // 2 \n",
    "    for l in range(L):\n",
    "\n",
    "        v[\"dW\" + str(l+1)] = beta*v['dW'+str(l+1)]+(1-beta)*grads['dW'+str(l+1)]\n",
    "        v[\"db\" + str(l+1)] = beta*v['db'+str(l+1)]+(1-beta)*grads['db'+str(l+1)]\n",
    "       \n",
    "        parameters[\"W\" + str(l+1)] = parameters['W'+str(l+1)]-learning_rate*v['dW'+str(l+1)]\n",
    "        parameters[\"b\" + str(l+1)] = parameters['b'+str(l+1)]-learning_rate*v['db'+str(l+1)]\n",
    "    \n",
    "    return parameters, v"
   ]
  },
  {
   "cell_type": "code",
   "execution_count": 19,
   "metadata": {},
   "outputs": [],
   "source": [
    "def initialize_adam(parameters) :\n",
    "    \n",
    "    L = len(parameters) // 2 \n",
    "    v = {}\n",
    "    s = {}\n",
    "    \n",
    "    for l in range(L):\n",
    "    \n",
    "        v[\"dW\" + str(l+1)] = np.zeros(parameters['W'+str(l+1)].shape)\n",
    "        v[\"db\" + str(l+1)] = np.zeros(parameters['b'+str(l+1)].shape)\n",
    "        s[\"dW\" + str(l+1)] = np.zeros(parameters['W'+str(l+1)].shape)\n",
    "        s[\"db\" + str(l+1)] = np.zeros(parameters['b'+str(l+1)].shape)\n",
    "    del L\n",
    "    return v, s"
   ]
  },
  {
   "cell_type": "code",
   "execution_count": 20,
   "metadata": {},
   "outputs": [],
   "source": [
    "def update_parameters_with_adam(parameters, grads, v, s, t, learning_rate = 0.01,beta1 = 0.9, beta2 = 0.999,  epsilon = 1e-8):\n",
    "    \n",
    "    L = len(parameters) // 2                 \n",
    "    v_corrected = {}                         \n",
    "    s_corrected = {}                         \n",
    "\n",
    "    for l in range(L):\n",
    "\n",
    "        v[\"dW\" + str(l + 1)] = beta1 * v[\"dW\" + str(l + 1)] + (1 - beta1) * grads['dW' + str(l + 1)]\n",
    "        v[\"db\" + str(l + 1)] = beta1 * v[\"db\" + str(l + 1)] + (1 - beta1) * grads['db' + str(l + 1)]\n",
    "        \n",
    "        v_corrected[\"dW\" + str(l + 1)] = v[\"dW\" + str(l + 1)] / (1 - np.power(beta1, t))\n",
    "        v_corrected[\"db\" + str(l + 1)] = v[\"db\" + str(l + 1)] / (1 - np.power(beta1, t))\n",
    "        \n",
    "        s[\"dW\" + str(l + 1)] = beta2 * s[\"dW\" + str(l + 1)] + (1 - beta2) * np.power(grads['dW' + str(l + 1)], 2)\n",
    "        s[\"db\" + str(l + 1)] = beta2 * s[\"db\" + str(l + 1)] + (1 - beta2) * np.power(grads['db' + str(l + 1)], 2)\n",
    "\n",
    "        s_corrected[\"dW\" + str(l + 1)] = s[\"dW\" + str(l + 1)] / (1 - np.power(beta2, t))\n",
    "        s_corrected[\"db\" + str(l + 1)] = s[\"db\" + str(l + 1)] / (1 - np.power(beta2, t))\n",
    "\n",
    "        parameters[\"W\" + str(l + 1)] = parameters[\"W\" + str(l + 1)] - learning_rate * v_corrected[\"dW\" + str(l + 1)] / np.sqrt(s_corrected[\"dW\" + str(l + 1)] + epsilon)\n",
    "        parameters[\"b\" + str(l + 1)] = parameters[\"b\" + str(l + 1)] - learning_rate * v_corrected[\"db\" + str(l + 1)] / np.sqrt(s_corrected[\"db\" + str(l + 1)] + epsilon)\n",
    "    del L\n",
    "    return parameters, v, s"
   ]
  },
  {
   "cell_type": "code",
   "execution_count": 21,
   "metadata": {},
   "outputs": [],
   "source": [
    "def predict(X, y, parameters):\n",
    "   \n",
    "    m = X.shape[1]\n",
    "    p = np.zeros((1,m), dtype = np.int)\n",
    "\n",
    "    a3, caches = forward_propagation(X, parameters)\n",
    "  \n",
    "    for i in range(0, a3.shape[1]):\n",
    "        if a3[0,i] > 0.5:\n",
    "            p[0,i] = 1\n",
    "        else:\n",
    "            p[0,i] = 0\n",
    "\n",
    "    print(\"Accuracy: \"  + str(np.mean((p[0,:] == y[0,:]))))\n",
    "    \n",
    "    return p"
   ]
  },
  {
   "cell_type": "code",
   "execution_count": 22,
   "metadata": {},
   "outputs": [],
   "source": [
    "def model(X, Y, layers_dims, optimizer, learning_rate = 0.005, mini_batch_size = 64, beta = 0.9,beta1 = 0.9, beta2 = 0.999,  epsilon = 1e-8, num_epochs = 30, print_cost = True):\n",
    "\n",
    "    L = len(layers_dims)             \n",
    "    costs = []                       \n",
    "    t = 0                                                   \n",
    "    m = X.shape[1]                  \n",
    "    parameters = initialize_parameters(layers_dims)\n",
    "\n",
    "    if optimizer == \"gd\":\n",
    "        pass \n",
    "    elif optimizer == \"momentum\":\n",
    "        v = initialize_velocity(parameters)\n",
    "    elif optimizer == \"adam\":\n",
    "        v, s = initialize_adam(parameters)\n",
    "    \n",
    "    for i in range(num_epochs):\n",
    "        \n",
    "        minibatches = random_mini_batches(X, Y, mini_batch_size)\n",
    "        cost_total = 0\n",
    "        \n",
    "        for minibatch in minibatches:\n",
    "\n",
    "            (minibatch_X, minibatch_Y) = minibatch\n",
    "\n",
    "            a3, caches = forward_propagation(minibatch_X, parameters)\n",
    "            print(a3.shape)\n",
    "            cost_total += compute_cost(a3, minibatch_Y)\n",
    "\n",
    "            grads = backward_propagation(a3, minibatch_Y, caches)\n",
    "\n",
    "            if optimizer == \"gd\":\n",
    "                parameters = update_parameters_with_gd(parameters, grads, learning_rate)\n",
    "            elif optimizer == \"momentum\":\n",
    "                parameters, v = update_parameters_with_momentum(parameters, grads, v, beta, learning_rate)\n",
    "            elif optimizer == \"adam\":\n",
    "                t = t + 1 # Adam counter\n",
    "                parameters, v, s = update_parameters_with_adam(parameters, grads, v, s,\n",
    "                                                               t, learning_rate, beta1, beta2,  epsilon)\n",
    "        cost_avg = cost_total / m\n",
    "        \n",
    "        if print_cost and i % 2 == 0:\n",
    "            print (\"Cost after epoch %i: %f\" %(i, cost_avg))\n",
    "        if print_cost and i % 2 == 0:\n",
    "            costs.append(cost_avg)\n",
    "                \n",
    "    plt.plot(costs)\n",
    "    plt.ylabel('cost')\n",
    "    plt.xlabel('epochs (per 100)')\n",
    "    plt.title(\"Learning rate = \" + str(learning_rate))\n",
    "    plt.show()\n",
    "\n",
    "    return parameters"
   ]
  },
  {
   "cell_type": "code",
   "execution_count": 23,
   "metadata": {},
   "outputs": [],
   "source": [
    "plastic=os.path.abspath('plastic')\n",
    "onlyfiles = [ f for f in listdir(plastic) if isfile(join(plastic,f)) ]\n",
    "non_plastic=os.path.abspath('non_plastic')\n",
    "onlyfiles1 = [ f for f in listdir(non_plastic) if isfile(join(non_plastic,f)) ]\n",
    "train_images = np.zeros((len(onlyfiles)+len(onlyfiles1),384,512,3), dtype=np.uint8)\n",
    "train_labels = []\n",
    "for n in range(0, len(onlyfiles)):\n",
    "    train_images[n] = cv2.imread( join(plastic,onlyfiles[n]),1 )\n",
    "    train_labels.append(1)\n",
    "\n",
    "for n in range(0, len(onlyfiles1)):\n",
    "    train_images[len(onlyfiles)+n] = cv2.imread( join(non_plastic,onlyfiles1[n]),1 )\n",
    "    train_labels.append(0)\n",
    "\n",
    "train_labels=[train_labels]\n",
    "train_labels_array=np.asarray(train_labels)\n",
    "#print(train_labels_array.shape)"
   ]
  },
  {
   "cell_type": "code",
   "execution_count": 24,
   "metadata": {},
   "outputs": [
    {
     "name": "stdout",
     "output_type": "stream",
     "text": [
      "(1, 545)\n"
     ]
    }
   ],
   "source": [
    "plastic_test=os.path.abspath('plastic_test')\n",
    "onlyfiles_test = [ f for f in listdir(plastic_test) if isfile(join(plastic_test,f)) ]\n",
    "non_plastic_test=os.path.abspath('non_plastic_test')\n",
    "onlyfiles_test1 = [ f for f in listdir(non_plastic_test) if isfile(join(non_plastic_test,f)) ]\n",
    "test_images = np.zeros((len(onlyfiles_test)+len(onlyfiles_test1),384,512,3), dtype=np.uint8)\n",
    "test_labels = []\n",
    "for n in range(0, len(onlyfiles_test)):\n",
    "    test_images[n] = cv2.imread( join(plastic_test,onlyfiles_test[n]),1 )\n",
    "    test_labels.append(1)\n",
    "\n",
    "for n in range(0, len(onlyfiles_test1)):\n",
    "    test_images[len(onlyfiles_test)+n] = cv2.imread( join(non_plastic_test,onlyfiles_test1[n]),1 )\n",
    "    test_labels.append(0)\n",
    "\n",
    "test_labels=[test_labels]\n",
    "test_labels_array=np.asarray(test_labels)\n",
    "print(train_labels_array.shape)"
   ]
  },
  {
   "cell_type": "code",
   "execution_count": 25,
   "metadata": {},
   "outputs": [
    {
     "name": "stdout",
     "output_type": "stream",
     "text": [
      "(545, 384, 512, 3)\n",
      "(589824, 545)\n"
     ]
    }
   ],
   "source": [
    "train_x_flatten = train_images.reshape(train_images.shape[0],-1).T\n",
    "print(train_images.shape)\n",
    "train_x = train_x_flatten/255\n",
    "print(train_x.shape)"
   ]
  },
  {
   "cell_type": "code",
   "execution_count": 26,
   "metadata": {},
   "outputs": [],
   "source": [
    "test_x_flatten = test_images.reshape(test_images.shape[0],-1).T\n",
    "test_x = test_x_flatten/255\n",
    "#print(test_x.shape)"
   ]
  },
  {
   "cell_type": "code",
   "execution_count": 27,
   "metadata": {},
   "outputs": [
    {
     "name": "stdout",
     "output_type": "stream",
     "text": [
      "(1, 10) (10, 64)\n",
      "(1, 64)\n",
      "(1, 10) (10, 64)\n",
      "(1, 64)\n"
     ]
    },
    {
     "name": "stderr",
     "output_type": "stream",
     "text": [
      "C:\\Users\\putlu\\anaconda3\\lib\\site-packages\\ipykernel_launcher.py:4: RuntimeWarning: divide by zero encountered in log\n",
      "  after removing the cwd from sys.path.\n",
      "C:\\Users\\putlu\\anaconda3\\lib\\site-packages\\ipykernel_launcher.py:4: RuntimeWarning: invalid value encountered in multiply\n",
      "  after removing the cwd from sys.path.\n",
      "C:\\Users\\putlu\\anaconda3\\lib\\site-packages\\ipykernel_launcher.py:6: RuntimeWarning: divide by zero encountered in true_divide\n",
      "  \n",
      "C:\\Users\\putlu\\anaconda3\\lib\\site-packages\\ipykernel_launcher.py:6: RuntimeWarning: invalid value encountered in true_divide\n",
      "  \n",
      "C:\\Users\\putlu\\anaconda3\\lib\\site-packages\\ipykernel_launcher.py:6: RuntimeWarning: invalid value encountered in multiply\n",
      "  \n"
     ]
    },
    {
     "name": "stdout",
     "output_type": "stream",
     "text": [
      "(1, 10) (10, 64)\n",
      "(1, 64)\n"
     ]
    },
    {
     "name": "stderr",
     "output_type": "stream",
     "text": [
      "C:\\Users\\putlu\\anaconda3\\lib\\site-packages\\ipykernel_launcher.py:6: RuntimeWarning: invalid value encountered in less_equal\n",
      "  \n"
     ]
    },
    {
     "name": "stdout",
     "output_type": "stream",
     "text": [
      "(1, 10) (10, 64)\n",
      "(1, 64)\n",
      "(1, 10) (10, 64)\n",
      "(1, 64)\n",
      "(1, 10) (10, 64)\n",
      "(1, 64)\n",
      "(1, 10) (10, 64)\n",
      "(1, 64)\n",
      "(1, 10) (10, 64)\n",
      "(1, 64)\n",
      "(1, 10) (10, 33)\n",
      "(1, 33)\n",
      "Cost after epoch 0: nan\n",
      "(1, 10) (10, 64)\n",
      "(1, 64)\n",
      "(1, 10) (10, 64)\n",
      "(1, 64)\n",
      "(1, 10) (10, 64)\n",
      "(1, 64)\n",
      "(1, 10) (10, 64)\n",
      "(1, 64)\n",
      "(1, 10) (10, 64)\n",
      "(1, 64)\n",
      "(1, 10) (10, 64)\n",
      "(1, 64)\n",
      "(1, 10) (10, 64)\n",
      "(1, 64)\n",
      "(1, 10) (10, 64)\n",
      "(1, 64)\n",
      "(1, 10) (10, 33)\n",
      "(1, 33)\n",
      "(1, 10) (10, 64)\n",
      "(1, 64)\n",
      "(1, 10) (10, 64)\n",
      "(1, 64)\n",
      "(1, 10) (10, 64)\n",
      "(1, 64)\n",
      "(1, 10) (10, 64)\n",
      "(1, 64)\n",
      "(1, 10) (10, 64)\n",
      "(1, 64)\n",
      "(1, 10) (10, 64)\n",
      "(1, 64)\n",
      "(1, 10) (10, 64)\n",
      "(1, 64)\n",
      "(1, 10) (10, 64)\n",
      "(1, 64)\n",
      "(1, 10) (10, 33)\n",
      "(1, 33)\n",
      "Cost after epoch 2: nan\n",
      "(1, 10) (10, 64)\n",
      "(1, 64)\n",
      "(1, 10) (10, 64)\n",
      "(1, 64)\n",
      "(1, 10) (10, 64)\n",
      "(1, 64)\n",
      "(1, 10) (10, 64)\n",
      "(1, 64)\n",
      "(1, 10) (10, 64)\n",
      "(1, 64)\n",
      "(1, 10) (10, 64)\n",
      "(1, 64)\n",
      "(1, 10) (10, 64)\n",
      "(1, 64)\n",
      "(1, 10) (10, 64)\n",
      "(1, 64)\n",
      "(1, 10) (10, 33)\n",
      "(1, 33)\n",
      "(1, 10) (10, 64)\n",
      "(1, 64)\n",
      "(1, 10) (10, 64)\n",
      "(1, 64)\n",
      "(1, 10) (10, 64)\n",
      "(1, 64)\n",
      "(1, 10) (10, 64)\n",
      "(1, 64)\n",
      "(1, 10) (10, 64)\n",
      "(1, 64)\n",
      "(1, 10) (10, 64)\n",
      "(1, 64)\n",
      "(1, 10) (10, 64)\n",
      "(1, 64)\n",
      "(1, 10) (10, 64)\n",
      "(1, 64)\n",
      "(1, 10) (10, 33)\n",
      "(1, 33)\n",
      "Cost after epoch 4: nan\n",
      "(1, 10) (10, 64)\n",
      "(1, 64)\n",
      "(1, 10) (10, 64)\n",
      "(1, 64)\n",
      "(1, 10) (10, 64)\n",
      "(1, 64)\n",
      "(1, 10) (10, 64)\n",
      "(1, 64)\n",
      "(1, 10) (10, 64)\n",
      "(1, 64)\n",
      "(1, 10) (10, 64)\n",
      "(1, 64)\n",
      "(1, 10) (10, 64)\n",
      "(1, 64)\n",
      "(1, 10) (10, 64)\n",
      "(1, 64)\n",
      "(1, 10) (10, 33)\n",
      "(1, 33)\n",
      "(1, 10) (10, 64)\n",
      "(1, 64)\n",
      "(1, 10) (10, 64)\n",
      "(1, 64)\n",
      "(1, 10) (10, 64)\n",
      "(1, 64)\n",
      "(1, 10) (10, 64)\n",
      "(1, 64)\n",
      "(1, 10) (10, 64)\n",
      "(1, 64)\n",
      "(1, 10) (10, 64)\n",
      "(1, 64)\n",
      "(1, 10) (10, 64)\n",
      "(1, 64)\n",
      "(1, 10) (10, 64)\n",
      "(1, 64)\n",
      "(1, 10) (10, 33)\n",
      "(1, 33)\n",
      "Cost after epoch 6: nan\n",
      "(1, 10) (10, 64)\n",
      "(1, 64)\n",
      "(1, 10) (10, 64)\n",
      "(1, 64)\n",
      "(1, 10) (10, 64)\n",
      "(1, 64)\n",
      "(1, 10) (10, 64)\n",
      "(1, 64)\n",
      "(1, 10) (10, 64)\n",
      "(1, 64)\n",
      "(1, 10) (10, 64)\n",
      "(1, 64)\n",
      "(1, 10) (10, 64)\n",
      "(1, 64)\n",
      "(1, 10) (10, 64)\n",
      "(1, 64)\n",
      "(1, 10) (10, 33)\n",
      "(1, 33)\n"
     ]
    },
    {
     "data": {
      "image/png": "[encoded data removed]",
      "text/plain": [
       "<Figure size 432x288 with 1 Axes>"
      ]
     },
     "metadata": {
      "needs_background": "light"
     },
     "output_type": "display_data"
    },
    {
     "name": "stdout",
     "output_type": "stream",
     "text": [
      "(1, 10) (10, 545)\n",
      "Accuracy: 0.5761467889908257\n",
      "(1, 10) (10, 295)\n",
      "Accuracy: 0.688135593220339\n"
     ]
    }
   ],
   "source": [
    "layers_dims = [train_x.shape[0], 50, 20, 10,1]\n",
    "parameters = model(train_x, train_labels_array, layers_dims, optimizer = \"adam\",learning_rate = 0.004, num_epochs = 8)\n",
    "\n",
    "predictions = predict(train_x, train_labels_array, parameters)\n",
    "predictions = predict(test_x, test_labels_array, parameters)\n",
    "\n"
   ]
  },
  {
   "cell_type": "code",
   "execution_count": null,
   "metadata": {},
   "outputs": [],
   "source": []
  },
  {
   "cell_type": "code",
   "execution_count": null,
   "metadata": {},
   "outputs": [],
   "source": []
  }
 ],
 "metadata": {
  "kernelspec": {
   "display_name": "Python 3",
   "language": "python",
   "name": "python3"
  },
  "language_info": {
   "codemirror_mode": {
    "name": "ipython",
    "version": 3
   },
   "file_extension": ".py",
   "mimetype": "text/x-python",
   "name": "python",
   "nbconvert_exporter": "python",
   "pygments_lexer": "ipython3",
   "version": "3.7.6"
  }
 },
 "nbformat": 4,
 "nbformat_minor": 4
}
